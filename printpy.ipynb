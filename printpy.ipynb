{
 "cells": [
  {
   "cell_type": "code",
   "execution_count": 1,
   "metadata": {},
   "outputs": [],
   "source": [
    "print('hello saran!')"
   ]
  },
  {
   "cell_type": "code",
   "execution_count": 2,
   "metadata": {},
   "outputs": [],
   "source": [
    "print('தமிழ்நாடு')"
   ]
  },
  {
   "cell_type": "code",
   "execution_count": 3,
   "metadata": {},
   "outputs": [],
   "source": [
    "10-1"
   ]
  },
  {
   "cell_type": "code",
   "execution_count": 4,
   "metadata": {},
   "outputs": [],
   "source": [
    "10%3"
   ]
  },
  {
   "cell_type": "code",
   "execution_count": 5,
   "metadata": {},
   "outputs": [],
   "source": [
    "1/10"
   ]
  },
  {
   "cell_type": "code",
   "execution_count": 6,
   "metadata": {},
   "outputs": [],
   "source": [
    "int(3/2)"
   ]
  },
  {
   "cell_type": "code",
   "execution_count": 7,
   "metadata": {},
   "outputs": [
    {
     "data": {
      "text/plain": [
       "64"
      ]
     },
     "execution_count": 7,
     "metadata": {},
     "output_type": "execute_result"
    }
   ],
   "source": [
    "4 ** 3  #power"
   ]
  },
  {
   "cell_type": "code",
   "execution_count": 8,
   "metadata": {},
   "outputs": [
    {
     "data": {
      "text/plain": [
       "0.0"
      ]
     },
     "execution_count": 8,
     "metadata": {},
     "output_type": "execute_result"
    }
   ],
   "source": [
    "0.1+0.2-0.30000000000000004"
   ]
  },
  {
   "cell_type": "code",
   "execution_count": 9,
   "metadata": {},
   "outputs": [
    {
     "data": {
      "text/plain": [
       "(7205759403792793, 6)"
      ]
     },
     "execution_count": 9,
     "metadata": {},
     "output_type": "execute_result"
    }
   ],
   "source": [
    "divmod(2**56, 10)"
   ]
  },
  {
   "cell_type": "code",
   "execution_count": 10,
   "metadata": {},
   "outputs": [
    {
     "name": "stdout",
     "output_type": "stream",
     "text": [
      "5\n",
      "10\n"
     ]
    }
   ],
   "source": [
    "a = 5\n",
    "print(a)\n",
    "print(a+a)"
   ]
  },
  {
   "cell_type": "code",
   "execution_count": 11,
   "metadata": {},
   "outputs": [
    {
     "data": {
      "text/plain": [
       "True"
      ]
     },
     "execution_count": 11,
     "metadata": {},
     "output_type": "execute_result"
    }
   ],
   "source": [
    "typea = type(a)\n",
    "typea == type(1)"
   ]
  },
  {
   "cell_type": "code",
   "execution_count": 29,
   "metadata": {},
   "outputs": [
    {
     "name": "stdout",
     "output_type": "stream",
     "text": [
      "Sarunya Durai's cat 'தமிழ்நாடு' 11\n",
      "' ு ட ி\n",
      "தமிழ்\n",
      "'தமிழ்\n",
      "SrnaDrisct\n",
      "தி்ாு\n",
      "'ுடாந்ழிமத' tac s'iaruD aynuraS\n",
      "'தமிழ்நாடு'\n"
     ]
    }
   ],
   "source": [
    "name = \"Sarunya Durai's cat\"\n",
    "state = \"'தமிழ்நாடு'\"\n",
    "print(name, state, len(state));\n",
    "print(state[0], state[-2], state[-3], state[3]);\n",
    "print(state[1:6]);\n",
    "print(state[:6]);\n",
    "print(name[::2]);\n",
    "print(state[1::2]);\n",
    "print(state[::-1], name[::-1]);\n",
    "print(state[::1]);"
   ]
  },
  {
   "cell_type": "code",
   "execution_count": 43,
   "metadata": {},
   "outputs": [
    {
     "name": "stdout",
     "output_type": "stream",
     "text": [
      "Sarunya Durai's cas dogs dogs dogs dogs dogs dogs dogs dogs dogs\n",
      " dogs\n",
      " dogsSarunya Durai's cas dogs dogs dogs dogs dogs dogs dogs dogs dogs\n",
      " dogs\n",
      " dogsSarunya Durai's cas dogs dogs dogs dogs dogs dogs dogs dogs dogs\n",
      " dogs\n",
      " dogs 228\n"
     ]
    },
    {
     "data": {
      "text/plain": [
       "[\"Sarunya Durai's cas dogs dogs dogs dogs dogs dogs dogs dogs dogs\",\n",
       " ' dogs',\n",
       " ' dogs']"
      ]
     },
     "execution_count": 43,
     "metadata": {},
     "output_type": "execute_result"
    }
   ],
   "source": [
    "name=name[:-1]+'s'\n",
    "name = name + '\\n dogs';\n",
    "print(name*3, len(name*3))\n",
    "name.upper()\n",
    "name.split(\"\\n\")"
   ]
  },
  {
   "cell_type": "code",
   "execution_count": 48,
   "metadata": {},
   "outputs": [
    {
     "data": {
      "text/plain": [
       "\"My sate is 'தமிழ்நாடு'\""
      ]
     },
     "execution_count": 48,
     "metadata": {},
     "output_type": "execute_result"
    }
   ],
   "source": [
    "\"My sate is {0}\".format(state)\n",
    "\"My sate is {state}\".format(state=state)"
   ]
  },
  {
   "cell_type": "code",
   "execution_count": 68,
   "metadata": {},
   "outputs": [
    {
     "data": {
      "text/plain": [
       "'The result is 0.000216..........................................'"
      ]
     },
     "execution_count": 68,
     "metadata": {},
     "output_type": "execute_result"
    }
   ],
   "source": [
    "result = 11/50989\n",
    "\"The result is {r:.<50.6f}\".format(r=result)"
   ]
  },
  {
   "cell_type": "code",
   "execution_count": 64,
   "metadata": {},
   "outputs": [
    {
     "data": {
      "text/plain": [
       "'The result is 0.0002157328051148287'"
      ]
     },
     "execution_count": 64,
     "metadata": {},
     "output_type": "execute_result"
    }
   ],
   "source": [
    "f\"The result is {result}\""
   ]
  },
  {
   "cell_type": "code",
   "execution_count": 8,
   "metadata": {},
   "outputs": [
    {
     "name": "stdout",
     "output_type": "stream",
     "text": [
      "6\n",
      "1\n",
      "[2, 3, 5, 'sarunya', 9.897]\n",
      "[1, 2, 3, 5, 'sarunya']\n",
      "[1, 2, 3, 5, 'sarunya']\n",
      "[1, 3, 'sarunya']\n"
     ]
    }
   ],
   "source": [
    "my_list = [1,2,3,5,'sarunya', 9.897]\n",
    "print(len(my_list))\n",
    "print(my_list[0])\n",
    "print(my_list[1:])\n",
    "print(my_list[:5])\n",
    "print(my_list[:5])\n",
    "print(my_list[::2])"
   ]
  },
  {
   "cell_type": "code",
   "execution_count": 27,
   "metadata": {},
   "outputs": [
    {
     "data": {
      "text/plain": [
       "[1, 2, 3, 5, 'sarunya', 9.897, 1, 'renu']"
      ]
     },
     "execution_count": 27,
     "metadata": {},
     "output_type": "execute_result"
    }
   ],
   "source": [
    "my_list2=[1, 'renu']\n",
    "my_list + my_list2"
   ]
  },
  {
   "cell_type": "code",
   "execution_count": 16,
   "metadata": {},
   "outputs": [
    {
     "name": "stdout",
     "output_type": "stream",
     "text": [
      "e\n"
     ]
    },
    {
     "ename": "TypeError",
     "evalue": "'str' object does not support item assignment",
     "output_type": "error",
     "traceback": [
      "\u001b[0;31m---------------------------------------------------------------------------\u001b[0m",
      "\u001b[0;31mTypeError\u001b[0m                                 Traceback (most recent call last)",
      "\u001b[0;32m<ipython-input-16-ebfe190e1a51>\u001b[0m in \u001b[0;36m<module>\u001b[0;34m\u001b[0m\n\u001b[1;32m      1\u001b[0m \u001b[0mprint\u001b[0m\u001b[0;34m(\u001b[0m\u001b[0mmy_list2\u001b[0m\u001b[0;34m[\u001b[0m\u001b[0;36m1\u001b[0m\u001b[0;34m]\u001b[0m\u001b[0;34m[\u001b[0m\u001b[0;36m1\u001b[0m\u001b[0;34m]\u001b[0m\u001b[0;34m)\u001b[0m\u001b[0;34m\u001b[0m\u001b[0;34m\u001b[0m\u001b[0m\n\u001b[0;32m----> 2\u001b[0;31m \u001b[0mmy_list2\u001b[0m\u001b[0;34m[\u001b[0m\u001b[0;36m1\u001b[0m\u001b[0;34m]\u001b[0m\u001b[0;34m[\u001b[0m\u001b[0;36m1\u001b[0m\u001b[0;34m]\u001b[0m \u001b[0;34m=\u001b[0m \u001b[0;34m'i'\u001b[0m\u001b[0;34m\u001b[0m\u001b[0;34m\u001b[0m\u001b[0m\n\u001b[0m",
      "\u001b[0;31mTypeError\u001b[0m: 'str' object does not support item assignment"
     ]
    }
   ],
   "source": [
    "print(my_list2[1][1])\n",
    "my_list2[1][1] = 'i'"
   ]
  },
  {
   "cell_type": "code",
   "execution_count": 29,
   "metadata": {},
   "outputs": [
    {
     "name": "stdout",
     "output_type": "stream",
     "text": [
      "[1, 'rinu', 'saru']\n",
      "[1, 'rinu', 'saru', 'saru']\n"
     ]
    }
   ],
   "source": [
    "my_list2[1] = 'rinu'\n",
    "print(my_list2)\n",
    "my_list2.append('saru')\n",
    "print(my_list2)"
   ]
  },
  {
   "cell_type": "code",
   "execution_count": 30,
   "metadata": {},
   "outputs": [
    {
     "name": "stdout",
     "output_type": "stream",
     "text": [
      "[1, 'rinu', 'saru', 'saru']\n",
      "saru\n",
      "[1, 'rinu', 'saru']\n",
      "rinu\n",
      "[1, 'saru']\n"
     ]
    }
   ],
   "source": [
    "print(my_list2)\n",
    "print(my_list2.pop())\n",
    "print(my_list2)\n",
    "print(my_list2.pop(1))\n",
    "print(my_list2)"
   ]
  },
  {
   "cell_type": "code",
   "execution_count": 34,
   "metadata": {},
   "outputs": [
    {
     "name": "stdout",
     "output_type": "stream",
     "text": [
      "['saru', 'santhosh', 'sandhiya', 'salang', 'angry', 'renu', 'lani', 'ila', 'nila']\n",
      "['angry', 'ila', 'lani', 'nila', 'renu', 'salang', 'sandhiya', 'santhosh', 'saru']\n",
      "['saru', 'santhosh', 'sandhiya', 'salang', 'renu', 'nila', 'lani', 'ila', 'angry']\n"
     ]
    }
   ],
   "source": [
    "my_list = ['saru', 'santhosh', 'sandhiya', 'salang', 'angry', 'renu', 'lani', 'ila', 'nila']\n",
    "print(my_list)\n",
    "my_list.sort()\n",
    "print(my_list)\n",
    "my_list.reverse()\n",
    "print(my_list)"
   ]
  },
  {
   "cell_type": "code",
   "execution_count": null,
   "metadata": {},
   "outputs": [],
   "source": []
  }
 ],
 "metadata": {
  "kernelspec": {
   "display_name": "Python 3",
   "language": "python",
   "name": "python3"
  },
  "language_info": {
   "codemirror_mode": {
    "name": "ipython",
    "version": 3
   },
   "file_extension": ".py",
   "mimetype": "text/x-python",
   "name": "python",
   "nbconvert_exporter": "python",
   "pygments_lexer": "ipython3",
   "version": "3.8.5"
  }
 },
 "nbformat": 4,
 "nbformat_minor": 4
}
