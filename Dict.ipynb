{
 "cells": [
  {
   "cell_type": "code",
   "execution_count": 2,
   "metadata": {},
   "outputs": [
    {
     "name": "stdout",
     "output_type": "stream",
     "text": [
      "{'name': 'saru', 'age': 26, 'related_to': [{'name': 'renu', 'relation': 'sister'}, {'name': 'latha', 'relation': 'mom'}]}\n",
      "latha\n"
     ]
    }
   ],
   "source": [
    "dict1 = {'name': 'saru', 'age':26, 'related_to': [{'name': 'renu', 'relation': 'sister'}, {'name': 'latha', 'relation': 'mom'}]}\n",
    "print(dict1)\n",
    "print(dict1['related_to'][1]['name'])"
   ]
  },
  {
   "cell_type": "code",
   "execution_count": 5,
   "metadata": {},
   "outputs": [
    {
     "name": "stdout",
     "output_type": "stream",
     "text": [
      "{'arr': [1, 5, 3, 7, 9], 'str': ['sa', 'rE']}\n",
      "{'arr': [1, 3, 5, 7, 9], 'str': ['sa', 'rE']}\n",
      "{'arr': [1, 3, 5, 7, 9], 'str': ['sa', 'RE']}\n"
     ]
    }
   ],
   "source": [
    "dict2 = {'arr':[1,5,3,7,9], 'str':['sa','rE']}\n",
    "print(dict2)\n",
    "dict2['arr'].sort()\n",
    "print(dict2)\n",
    "dict2['str'][1] = dict2['str'][1].upper()\n",
    "print(dict2)"
   ]
  },
  {
   "cell_type": "code",
   "execution_count": 8,
   "metadata": {},
   "outputs": [
    {
     "name": "stdout",
     "output_type": "stream",
     "text": [
      "{'arr': [1, 3, 5, 7, 9], 'str': ['sa', 'RE'], 'num': 1245}\n"
     ]
    }
   ],
   "source": [
    "dict2['num'] = 1245\n",
    "print(dict2)"
   ]
  },
  {
   "cell_type": "code",
   "execution_count": 12,
   "metadata": {},
   "outputs": [
    {
     "name": "stdout",
     "output_type": "stream",
     "text": [
      "dict_keys(['name', 'age', 'related_to'])\n",
      "<class 'dict_keys'>\n",
      "dict_values(['saru', 26, [{'name': 'renu', 'relation': 'sister'}, {'name': 'latha', 'relation': 'mom'}]])\n",
      "<class 'dict_values'>\n",
      "dict_items([('name', 'saru'), ('age', 26), ('related_to', [{'name': 'renu', 'relation': 'sister'}, {'name': 'latha', 'relation': 'mom'}])])\n",
      "<class 'dict_values'>\n"
     ]
    }
   ],
   "source": [
    "print(dict1.keys())\n",
    "print(type(dict1.keys()))\n",
    "print(dict1.values())\n",
    "print(type(dict1.values()))\n",
    "print(dict1.items())\n",
    "print(type(dict1.values()))"
   ]
  },
  {
   "cell_type": "code",
   "execution_count": null,
   "metadata": {},
   "outputs": [],
   "source": []
  }
 ],
 "metadata": {
  "kernelspec": {
   "display_name": "Python 3",
   "language": "python",
   "name": "python3"
  },
  "language_info": {
   "codemirror_mode": {
    "name": "ipython",
    "version": 3
   },
   "file_extension": ".py",
   "mimetype": "text/x-python",
   "name": "python",
   "nbconvert_exporter": "python",
   "pygments_lexer": "ipython3",
   "version": "3.8.5"
  }
 },
 "nbformat": 4,
 "nbformat_minor": 4
}
