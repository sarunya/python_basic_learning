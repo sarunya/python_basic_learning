{
 "cells": [
  {
   "cell_type": "code",
   "execution_count": 1,
   "metadata": {},
   "outputs": [],
   "source": [
    "if True : \n",
    "    print(\"{} is {}\".format(\"Sarunya\", \"Good\"))"
   ]
  },
  {
   "cell_type": "code",
   "execution_count": 2,
   "metadata": {},
   "outputs": [],
   "source": [
    "isGood = False\n",
    "if isGood:\n",
    "    print(\"She is good\")\n",
    "else :\n",
    "    print(\"She is not good\")"
   ]
  },
  {
   "cell_type": "code",
   "execution_count": 3,
   "metadata": {},
   "outputs": [
    {
     "name": "stdout",
     "output_type": "stream",
     "text": [
      "CS deparment class is in second floor\n"
     ]
    }
   ],
   "source": [
    "department = \"CS\"\n",
    "if department == \"IT\":\n",
    "    print(\"IT deparment class is in first floor\")\n",
    "elif department == \"CS\": \n",
    "    print(\"CS deparment class is in second floor\")\n",
    "else:\n",
    "    print(\"Go to bathroom\")"
   ]
  },
  {
   "cell_type": "code",
   "execution_count": 4,
   "metadata": {},
   "outputs": [
    {
     "name": "stdout",
     "output_type": "stream",
     "text": [
      "1\n",
      "2\n",
      "3\n"
     ]
    }
   ],
   "source": [
    "mylist = [1,2,3]\n",
    "for l in mylist:\n",
    "    print(l)"
   ]
  },
  {
   "cell_type": "code",
   "execution_count": 5,
   "metadata": {},
   "outputs": [
    {
     "name": "stdout",
     "output_type": "stream",
     "text": [
      "Print 0 to 9\n",
      "0\n",
      "1\n",
      "2\n",
      "3\n",
      "4\n",
      "5\n",
      "6\n",
      "7\n",
      "8\n",
      "9\n"
     ]
    }
   ],
   "source": [
    "print(\"Print 0 to 9\")\n",
    "for l in range(0, 10):\n",
    "    print(l)"
   ]
  },
  {
   "cell_type": "code",
   "execution_count": 6,
   "metadata": {},
   "outputs": [
    {
     "name": "stdout",
     "output_type": "stream",
     "text": [
      "Odd number : 1\n",
      "2\n",
      "Odd number : 3\n",
      "4\n",
      "Odd number : 5\n",
      "6\n",
      "Odd number : 7\n",
      "8\n",
      "Odd number : 9\n",
      "10\n"
     ]
    }
   ],
   "source": [
    "##To print only the event numbers\n",
    "for l in range(1, 11):\n",
    "    if l%2 == 0:\n",
    "        print(l)\n",
    "    else :\n",
    "        print(f'Odd number : {l}')"
   ]
  },
  {
   "cell_type": "code",
   "execution_count": 7,
   "metadata": {},
   "outputs": [
    {
     "name": "stdout",
     "output_type": "stream",
     "text": [
      "Sum of numbers in list is 390\n"
     ]
    }
   ],
   "source": [
    "listsum=0\n",
    "mylist = [2,6,77,1,90,24,15,75,81,19]\n",
    "for l in mylist:\n",
    "    listsum += l\n",
    "print(f\"Sum of numbers in list is {listsum}\")"
   ]
  },
  {
   "cell_type": "code",
   "execution_count": 8,
   "metadata": {},
   "outputs": [
    {
     "name": "stdout",
     "output_type": "stream",
     "text": [
      "Characters in string are S\n",
      "Characters in string are a\n",
      "Characters in string are r\n",
      "Characters in string are u\n",
      "Characters in string are n\n",
      "Characters in string are y\n",
      "Characters in string are a\n"
     ]
    }
   ],
   "source": [
    "for l in \"Sarunya\":\n",
    "    print(f\"Characters in string are {l}\")"
   ]
  },
  {
   "cell_type": "code",
   "execution_count": 9,
   "metadata": {},
   "outputs": [
    {
     "name": "stdout",
     "output_type": "stream",
     "text": [
      "1\n",
      "2\n",
      "3\n"
     ]
    }
   ],
   "source": [
    "tup = (1,2,3)\n",
    "for t in tup:\n",
    "    print(t)"
   ]
  },
  {
   "cell_type": "code",
   "execution_count": 10,
   "metadata": {},
   "outputs": [
    {
     "name": "stdout",
     "output_type": "stream",
     "text": [
      "(1, 2)\n",
      "(9, 0)\n",
      "(4, 7)\n"
     ]
    }
   ],
   "source": [
    "tup_pair_list = [(1,2), (9,0), (4,7)]\n",
    "for tup_pair in tup_pair_list:\n",
    "    print(tup_pair)"
   ]
  },
  {
   "cell_type": "code",
   "execution_count": 11,
   "metadata": {},
   "outputs": [
    {
     "name": "stdout",
     "output_type": "stream",
     "text": [
      "The sum of tuple pair 1, 2, 3 is 6\n",
      "The sum of tuple pair 9, 0, 1 is 10\n",
      "The sum of tuple pair 4, 7, 6 is 17\n"
     ]
    }
   ],
   "source": [
    "##Tuple unpacking\n",
    "tup_pair_list = [(1,2,3), (9,0, 1), (4,7,6)]\n",
    "for (x, y, z) in tup_pair_list:\n",
    "    print(f\"The sum of tuple pair {x}, {y}, {z} is {x+y+z}\")"
   ]
  },
  {
   "cell_type": "code",
   "execution_count": 12,
   "metadata": {},
   "outputs": [
    {
     "name": "stdout",
     "output_type": "stream",
     "text": [
      "gamhasabnida\n",
      "anyeo\n",
      "ge\n",
      "hangul\n"
     ]
    }
   ],
   "source": [
    "dictionary = {'gamhasabnida': 'thanks', \n",
    "              'anyeo': 'no', \n",
    "              'ge': 'dog', \n",
    "              'hangul':'korean alphabets'}\n",
    "##iterate keys\n",
    "for items in dictionary:\n",
    "    print(items)"
   ]
  },
  {
   "cell_type": "code",
   "execution_count": 13,
   "metadata": {},
   "outputs": [
    {
     "name": "stdout",
     "output_type": "stream",
     "text": [
      "('gamhasabnida', 'thanks')\n",
      "('anyeo', 'no')\n",
      "('ge', 'dog')\n",
      "('hangul', 'korean alphabets')\n"
     ]
    }
   ],
   "source": [
    "dictionary = {'gamhasabnida': 'thanks', \n",
    "              'anyeo': 'no', \n",
    "              'ge': 'dog', \n",
    "              'hangul':'korean alphabets'}\n",
    "##iterate pairs\n",
    "for items in dictionary.items():\n",
    "    print(items)"
   ]
  },
  {
   "cell_type": "code",
   "execution_count": 14,
   "metadata": {},
   "outputs": [
    {
     "name": "stdout",
     "output_type": "stream",
     "text": [
      "gamhasabnida  :  thanks\n",
      "anyeo  :  no\n",
      "ge  :  dog\n",
      "hangul  :  korean alphabets\n"
     ]
    }
   ],
   "source": [
    "dictionary = {'gamhasabnida': 'thanks', \n",
    "              'anyeo': 'no', \n",
    "              'ge': 'dog', \n",
    "              'hangul':'korean alphabets'}\n",
    "##unpacking tuples in iterate pairs\n",
    "for (key, value) in dictionary.items():\n",
    "    print(key, \" : \", value)"
   ]
  },
  {
   "cell_type": "code",
   "execution_count": 15,
   "metadata": {},
   "outputs": [
    {
     "name": "stdout",
     "output_type": "stream",
     "text": [
      "thanks\n",
      "no\n",
      "dog\n",
      "korean alphabets\n"
     ]
    }
   ],
   "source": [
    "dictionary = {'gamhasabnida': 'thanks', \n",
    "              'anyeo': 'no', \n",
    "              'ge': 'dog', \n",
    "              'hangul':'korean alphabets'}\n",
    "##iterating values\n",
    "for value in dictionary.values():\n",
    "    print(value)"
   ]
  },
  {
   "cell_type": "code",
   "execution_count": 16,
   "metadata": {},
   "outputs": [
    {
     "name": "stdout",
     "output_type": "stream",
     "text": [
      "0\n",
      "1\n",
      "2\n",
      "3\n",
      "4\n",
      "5\n",
      "6\n",
      "7\n",
      "8\n",
      "9\n",
      "Loop ended10\n"
     ]
    }
   ],
   "source": [
    "x=0\n",
    "while x in range(0,10):\n",
    "    print(x)\n",
    "    x+=1\n",
    "else:\n",
    "    print(f\"Loop ended{x}\")"
   ]
  },
  {
   "cell_type": "code",
   "execution_count": 17,
   "metadata": {},
   "outputs": [
    {
     "name": "stdout",
     "output_type": "stream",
     "text": [
      "1\n",
      "2\n",
      "3\n",
      "4\n"
     ]
    }
   ],
   "source": [
    "x=[1,2,3,4]\n",
    "for items in x:\n",
    "    print(items)"
   ]
  },
  {
   "cell_type": "code",
   "execution_count": 18,
   "metadata": {},
   "outputs": [],
   "source": [
    "x=[1,2,3,4]\n",
    "for items in x:\n",
    "    #comment\n",
    "    pass"
   ]
  },
  {
   "cell_type": "code",
   "execution_count": 19,
   "metadata": {},
   "outputs": [
    {
     "name": "stdout",
     "output_type": "stream",
     "text": [
      "Odd numbers are 1\n",
      "Odd numbers are 3\n"
     ]
    }
   ],
   "source": [
    "x=[1,2,3,4]\n",
    "for items in x:\n",
    "    if items%2 == 0:\n",
    "        continue\n",
    "    print(f\"Odd numbers are {items}\")"
   ]
  },
  {
   "cell_type": "code",
   "execution_count": 20,
   "metadata": {},
   "outputs": [
    {
     "name": "stdout",
     "output_type": "stream",
     "text": [
      "Odd numbers are 1\n"
     ]
    }
   ],
   "source": [
    "#break on meeting a even number\n",
    "x=[1,2,3,4]\n",
    "for items in x:\n",
    "    if items%2 == 0:\n",
    "        break\n",
    "    print(f\"Odd numbers are {items}\")"
   ]
  },
  {
   "cell_type": "code",
   "execution_count": 21,
   "metadata": {},
   "outputs": [
    {
     "name": "stdout",
     "output_type": "stream",
     "text": [
      "range(1, 11)\n"
     ]
    }
   ],
   "source": [
    "range1 = range(1, 11)\n",
    "print(range1)"
   ]
  },
  {
   "cell_type": "code",
   "execution_count": 22,
   "metadata": {},
   "outputs": [
    {
     "name": "stdout",
     "output_type": "stream",
     "text": [
      "1\n",
      "2\n",
      "3\n",
      "4\n",
      "5\n",
      "6\n",
      "7\n",
      "8\n",
      "9\n",
      "10\n"
     ]
    }
   ],
   "source": [
    "range1 = range(1, 11)\n",
    "for n in range1:\n",
    "    print(n)"
   ]
  },
  {
   "cell_type": "code",
   "execution_count": 23,
   "metadata": {},
   "outputs": [
    {
     "name": "stdout",
     "output_type": "stream",
     "text": [
      "2\n",
      "4\n",
      "6\n",
      "8\n",
      "10\n"
     ]
    }
   ],
   "source": [
    "range1 = range(2, 11, 2)\n",
    "for n in range1:\n",
    "    print(n)"
   ]
  },
  {
   "cell_type": "code",
   "execution_count": 24,
   "metadata": {},
   "outputs": [
    {
     "name": "stdout",
     "output_type": "stream",
     "text": [
      "[1, 3, 5, 7, 9]\n"
     ]
    }
   ],
   "source": [
    "range1 = range(1, 11, 2)\n",
    "list1 = list(range1)\n",
    "print(list1)"
   ]
  },
  {
   "cell_type": "code",
   "execution_count": 25,
   "metadata": {},
   "outputs": [
    {
     "name": "stdout",
     "output_type": "stream",
     "text": [
      "S\n",
      "a\n",
      "r\n",
      "u\n",
      "n\n",
      "y\n",
      "a\n"
     ]
    }
   ],
   "source": [
    "word = \"Sarunya\"\n",
    "for i in range(0, len(word)):\n",
    "    print(word[i])"
   ]
  },
  {
   "cell_type": "code",
   "execution_count": 26,
   "metadata": {},
   "outputs": [
    {
     "name": "stdout",
     "output_type": "stream",
     "text": [
      "(0, 'S')\n",
      "(1, 'a')\n",
      "(2, 'r')\n",
      "(3, 'u')\n",
      "(4, 'n')\n",
      "(5, 'y')\n",
      "(6, 'a')\n"
     ]
    }
   ],
   "source": [
    "word = \"Sarunya\"\n",
    "for item in enumerate(word):\n",
    "    print(item)"
   ]
  },
  {
   "cell_type": "code",
   "execution_count": 27,
   "metadata": {},
   "outputs": [
    {
     "name": "stdout",
     "output_type": "stream",
     "text": [
      "0 S\n",
      "1 a\n",
      "2 r\n",
      "3 u\n",
      "4 n\n",
      "5 y\n",
      "6 a\n"
     ]
    }
   ],
   "source": [
    "word = \"Sarunya\"\n",
    "for (index, item) in enumerate(word):\n",
    "    print(index, item)"
   ]
  },
  {
   "cell_type": "code",
   "execution_count": 28,
   "metadata": {},
   "outputs": [
    {
     "name": "stdout",
     "output_type": "stream",
     "text": [
      "<zip object at 0x7f8c8d8bc600>\n"
     ]
    }
   ],
   "source": [
    "list1 = [1,2,3]\n",
    "list2 = ['a',3, 'c']\n",
    "listzip = zip(list1, list2)\n",
    "print(listzip)"
   ]
  },
  {
   "cell_type": "code",
   "execution_count": 29,
   "metadata": {},
   "outputs": [
    {
     "name": "stdout",
     "output_type": "stream",
     "text": [
      "(1, 'a')\n",
      "(2, 3)\n",
      "(3, 'c')\n"
     ]
    }
   ],
   "source": [
    "list1 = [1,2,3,]\n",
    "list2 = ['a',3, 'c', 'd']\n",
    "\n",
    "for item in zip(list1, list2):\n",
    "    print(item)"
   ]
  },
  {
   "cell_type": "code",
   "execution_count": 30,
   "metadata": {},
   "outputs": [
    {
     "name": "stdout",
     "output_type": "stream",
     "text": [
      "(1, 'a', [1, 2, 3])\n",
      "(2, 3, {'a': 1})\n"
     ]
    }
   ],
   "source": [
    "list1 = [1,2,3,]\n",
    "list2 = ['a',3, 'c', 'd']\n",
    "list3 = [[1,2,3], {\"a\": 1}]\n",
    "\n",
    "for item in zip(list1, list2, list3):\n",
    "    print(item)"
   ]
  },
  {
   "cell_type": "code",
   "execution_count": 31,
   "metadata": {},
   "outputs": [
    {
     "data": {
      "text/plain": [
       "True"
      ]
     },
     "execution_count": 31,
     "metadata": {},
     "output_type": "execute_result"
    }
   ],
   "source": [
    "1 in [1, 2, 3]"
   ]
  },
  {
   "cell_type": "code",
   "execution_count": 32,
   "metadata": {},
   "outputs": [
    {
     "data": {
      "text/plain": [
       "True"
      ]
     },
     "execution_count": 32,
     "metadata": {},
     "output_type": "execute_result"
    }
   ],
   "source": [
    "'run' in 'Sarunya'"
   ]
  },
  {
   "cell_type": "code",
   "execution_count": 33,
   "metadata": {},
   "outputs": [
    {
     "data": {
      "text/plain": [
       "False"
      ]
     },
     "execution_count": 33,
     "metadata": {},
     "output_type": "execute_result"
    }
   ],
   "source": [
    "'xa' in 'Sarunya'"
   ]
  },
  {
   "cell_type": "code",
   "execution_count": 34,
   "metadata": {},
   "outputs": [
    {
     "data": {
      "text/plain": [
       "True"
      ]
     },
     "execution_count": 34,
     "metadata": {},
     "output_type": "execute_result"
    }
   ],
   "source": [
    "'key1' in {'key1': 2}"
   ]
  },
  {
   "cell_type": "code",
   "execution_count": 35,
   "metadata": {},
   "outputs": [
    {
     "data": {
      "text/plain": [
       "False"
      ]
     },
     "execution_count": 35,
     "metadata": {},
     "output_type": "execute_result"
    }
   ],
   "source": [
    "'key21' in {'key1': 2}"
   ]
  },
  {
   "cell_type": "code",
   "execution_count": 36,
   "metadata": {},
   "outputs": [
    {
     "data": {
      "text/plain": [
       "True"
      ]
     },
     "execution_count": 36,
     "metadata": {},
     "output_type": "execute_result"
    }
   ],
   "source": [
    "1 in (1,2,3)"
   ]
  },
  {
   "cell_type": "code",
   "execution_count": 37,
   "metadata": {},
   "outputs": [
    {
     "data": {
      "text/plain": [
       "False"
      ]
     },
     "execution_count": 37,
     "metadata": {},
     "output_type": "execute_result"
    }
   ],
   "source": [
    "32 in (1,2,3)"
   ]
  },
  {
   "cell_type": "code",
   "execution_count": 38,
   "metadata": {},
   "outputs": [
    {
     "data": {
      "text/plain": [
       "True"
      ]
     },
     "execution_count": 38,
     "metadata": {},
     "output_type": "execute_result"
    }
   ],
   "source": [
    "data = {'key1': 2}\n",
    "2 in data.values()"
   ]
  },
  {
   "cell_type": "code",
   "execution_count": 39,
   "metadata": {},
   "outputs": [
    {
     "name": "stdout",
     "output_type": "stream",
     "text": [
      "[8, 5, 9, 4, 1, 2, 7, 6, 3, 10]\n",
      "[2, 5, 1, 7, 4, 8, 10, 9, 6, 3]\n"
     ]
    }
   ],
   "source": [
    "from random import shuffle\n",
    "\n",
    "list1 = list(range(1, 11))\n",
    "shuffle(list1)\n",
    "print(list1)\n",
    "shuffle(list1)\n",
    "print(list1)"
   ]
  },
  {
   "cell_type": "code",
   "execution_count": 43,
   "metadata": {},
   "outputs": [
    {
     "data": {
      "text/plain": [
       "35303"
      ]
     },
     "execution_count": 43,
     "metadata": {},
     "output_type": "execute_result"
    }
   ],
   "source": [
    "from random import randint\n",
    "\n",
    "randint(0, 50000)"
   ]
  },
  {
   "cell_type": "code",
   "execution_count": 45,
   "metadata": {},
   "outputs": [
    {
     "name": "stdout",
     "output_type": "stream",
     "text": [
      "Enter your name: sarunya\n",
      "Welcom sarunya!\n"
     ]
    }
   ],
   "source": [
    "name = input(\"Enter your name: \")\n",
    "print(f\"Welcome {name}!\")"
   ]
  },
  {
   "cell_type": "code",
   "execution_count": 47,
   "metadata": {},
   "outputs": [
    {
     "name": "stdout",
     "output_type": "stream",
     "text": [
      "Enter your age: 26\n",
      "26\n"
     ]
    }
   ],
   "source": [
    "age = input(\"Enter your age: \")\n",
    "age = int(age)\n",
    "print(age)"
   ]
  },
  {
   "cell_type": "code",
   "execution_count": 48,
   "metadata": {},
   "outputs": [
    {
     "name": "stdout",
     "output_type": "stream",
     "text": [
      "['S', 'a', 'r', 'u', 'n', 'y', 'a']\n"
     ]
    }
   ],
   "source": [
    "#list comprehension\n",
    "list1 = [letter for letter in \"Sarunya\"]\n",
    "print(list1)"
   ]
  },
  {
   "cell_type": "code",
   "execution_count": 51,
   "metadata": {},
   "outputs": [
    {
     "name": "stdout",
     "output_type": "stream",
     "text": [
      "[0, 1, 4, 9, 16, 25, 36, 49, 64, 81, 100]\n"
     ]
    }
   ],
   "source": [
    "#list comprehension\n",
    "list1 = [num**2 for num in range(0,11)]\n",
    "print(list1)"
   ]
  },
  {
   "cell_type": "code",
   "execution_count": 52,
   "metadata": {},
   "outputs": [
    {
     "name": "stdout",
     "output_type": "stream",
     "text": [
      "[0, 4, 16, 36, 64, 100]\n"
     ]
    }
   ],
   "source": [
    "#list comprehension\n",
    "list1 = [num**2 for num in range(0,11, 2)]\n",
    "print(list1)"
   ]
  },
  {
   "cell_type": "code",
   "execution_count": 54,
   "metadata": {},
   "outputs": [
    {
     "name": "stdout",
     "output_type": "stream",
     "text": [
      "[1, 9, 25, 49, 81]\n"
     ]
    }
   ],
   "source": [
    "#list comprehension with if condition\n",
    "list1 = [num**2 for num in range(0,11) if num%2==1]\n",
    "print(list1)"
   ]
  },
  {
   "cell_type": "code",
   "execution_count": 56,
   "metadata": {},
   "outputs": [
    {
     "name": "stdout",
     "output_type": "stream",
     "text": [
      "[1, 1, 2, 2, 3, 3, 4, 4]\n"
     ]
    }
   ],
   "source": [
    "double = []\n",
    "for num in [1,2,3,4]:\n",
    "    double = double + 2*[num]\n",
    "print(double)"
   ]
  },
  {
   "cell_type": "code",
   "execution_count": null,
   "metadata": {},
   "outputs": [],
   "source": []
  }
 ],
 "metadata": {
  "kernelspec": {
   "display_name": "Python 3",
   "language": "python",
   "name": "python3"
  },
  "language_info": {
   "codemirror_mode": {
    "name": "ipython",
    "version": 3
   },
   "file_extension": ".py",
   "mimetype": "text/x-python",
   "name": "python",
   "nbconvert_exporter": "python",
   "pygments_lexer": "ipython3",
   "version": "3.8.5"
  }
 },
 "nbformat": 4,
 "nbformat_minor": 4
}
